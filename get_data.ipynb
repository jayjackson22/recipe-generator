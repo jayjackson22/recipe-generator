{
 "cells": [
  {
   "cell_type": "code",
   "execution_count": 3,
   "metadata": {
    "scrolled": true
   },
   "outputs": [
    {
     "name": "stdout",
     "output_type": "stream",
     "text": [
      "2020-12-02 10:34:49,218 INFO sqlalchemy.engine.base.Engine select version()\n",
      "2020-12-02 10:34:49,220 INFO sqlalchemy.engine.base.Engine {}\n",
      "2020-12-02 10:34:49,290 INFO sqlalchemy.engine.base.Engine select current_schema()\n",
      "2020-12-02 10:34:49,291 INFO sqlalchemy.engine.base.Engine {}\n",
      "2020-12-02 10:34:49,362 INFO sqlalchemy.engine.base.Engine SELECT CAST('test plain returns' AS VARCHAR(60)) AS anon_1\n",
      "2020-12-02 10:34:49,363 INFO sqlalchemy.engine.base.Engine {}\n",
      "2020-12-02 10:34:49,399 INFO sqlalchemy.engine.base.Engine SELECT CAST('test unicode returns' AS VARCHAR(60)) AS anon_1\n",
      "2020-12-02 10:34:49,399 INFO sqlalchemy.engine.base.Engine {}\n",
      "2020-12-02 10:34:49,436 INFO sqlalchemy.engine.base.Engine show standard_conforming_strings\n",
      "2020-12-02 10:34:49,437 INFO sqlalchemy.engine.base.Engine {}\n"
     ]
    }
   ],
   "source": [
    "from flask import Flask, render_template, redirect, jsonify\n",
    "from sqlalchemy import create_engine\n",
    "import pandas as pd\n",
    "import json\n",
    "\n",
    "import sqlalchemy as db\n",
    "\n",
    "connection_string = 'postgres:Adgjmpt1@postresql.cfwwjixawhdl.us-east-2.rds.amazonaws.com:5432/RecipeGenerator'\n",
    "engine = db.create_engine(f'postgresql://{connection_string}', echo=True)\n",
    "connection = engine.connect()\n",
    "metadata = db.MetaData()"
   ]
  },
  {
   "cell_type": "code",
   "execution_count": 2,
   "metadata": {
    "scrolled": false
   },
   "outputs": [
    {
     "name": "stdout",
     "output_type": "stream",
     "text": [
      "2020-12-02 10:34:40,816 INFO sqlalchemy.engine.base.Engine \n",
      "            SELECT c.oid\n",
      "            FROM pg_catalog.pg_class c\n",
      "            LEFT JOIN pg_catalog.pg_namespace n ON n.oid = c.relnamespace\n",
      "            WHERE (pg_catalog.pg_table_is_visible(c.oid))\n",
      "            AND c.relname = %(table_name)s AND c.relkind in\n",
      "            ('r', 'v', 'm', 'f', 'p')\n",
      "        \n",
      "2020-12-02 10:34:40,816 INFO sqlalchemy.engine.base.Engine {'table_name': 'recipe_list'}\n",
      "2020-12-02 10:34:40,887 INFO sqlalchemy.engine.base.Engine \n",
      "            SELECT a.attname,\n",
      "              pg_catalog.format_type(a.atttypid, a.atttypmod),\n",
      "              (SELECT pg_catalog.pg_get_expr(d.adbin, d.adrelid)\n",
      "                FROM pg_catalog.pg_attrdef d\n",
      "               WHERE d.adrelid = a.attrelid AND d.adnum = a.attnum\n",
      "               AND a.atthasdef)\n",
      "              AS DEFAULT,\n",
      "              a.attnotnull, a.attnum, a.attrelid as table_oid,\n",
      "              pgd.description as comment,\n",
      "              a.attgenerated as generated\n",
      "            FROM pg_catalog.pg_attribute a\n",
      "            LEFT JOIN pg_catalog.pg_description pgd ON (\n",
      "                pgd.objoid = a.attrelid AND pgd.objsubid = a.attnum)\n",
      "            WHERE a.attrelid = %(table_oid)s\n",
      "            AND a.attnum > 0 AND NOT a.attisdropped\n",
      "            ORDER BY a.attnum\n",
      "        \n",
      "2020-12-02 10:34:40,887 INFO sqlalchemy.engine.base.Engine {'table_oid': 16456}\n",
      "2020-12-02 10:34:40,926 INFO sqlalchemy.engine.base.Engine \n",
      "            SELECT t.typname as \"name\",\n",
      "               pg_catalog.format_type(t.typbasetype, t.typtypmod) as \"attype\",\n",
      "               not t.typnotnull as \"nullable\",\n",
      "               t.typdefault as \"default\",\n",
      "               pg_catalog.pg_type_is_visible(t.oid) as \"visible\",\n",
      "               n.nspname as \"schema\"\n",
      "            FROM pg_catalog.pg_type t\n",
      "               LEFT JOIN pg_catalog.pg_namespace n ON n.oid = t.typnamespace\n",
      "            WHERE t.typtype = 'd'\n",
      "        \n",
      "2020-12-02 10:34:40,926 INFO sqlalchemy.engine.base.Engine {}\n",
      "2020-12-02 10:34:40,963 INFO sqlalchemy.engine.base.Engine \n",
      "            SELECT t.typname as \"name\",\n",
      "               -- no enum defaults in 8.4 at least\n",
      "               -- t.typdefault as \"default\",\n",
      "               pg_catalog.pg_type_is_visible(t.oid) as \"visible\",\n",
      "               n.nspname as \"schema\",\n",
      "               e.enumlabel as \"label\"\n",
      "            FROM pg_catalog.pg_type t\n",
      "                 LEFT JOIN pg_catalog.pg_namespace n ON n.oid = t.typnamespace\n",
      "                 LEFT JOIN pg_catalog.pg_enum e ON t.oid = e.enumtypid\n",
      "            WHERE t.typtype = 'e'\n",
      "        ORDER BY \"schema\", \"name\", e.oid\n",
      "2020-12-02 10:34:40,964 INFO sqlalchemy.engine.base.Engine {}\n",
      "2020-12-02 10:34:41,002 INFO sqlalchemy.engine.base.Engine \n",
      "                SELECT a.attname\n",
      "                FROM pg_attribute a JOIN (\n",
      "                    SELECT unnest(ix.indkey) attnum,\n",
      "                           generate_subscripts(ix.indkey, 1) ord\n",
      "                    FROM pg_index ix\n",
      "                    WHERE ix.indrelid = %(table_oid)s AND ix.indisprimary\n",
      "                    ) k ON a.attnum=k.attnum\n",
      "                WHERE a.attrelid = %(table_oid)s\n",
      "                ORDER BY k.ord\n",
      "            \n",
      "2020-12-02 10:34:41,003 INFO sqlalchemy.engine.base.Engine {'table_oid': 16456}\n",
      "2020-12-02 10:34:41,040 INFO sqlalchemy.engine.base.Engine \n",
      "        SELECT conname\n",
      "           FROM  pg_catalog.pg_constraint r\n",
      "           WHERE r.conrelid = %(table_oid)s AND r.contype = 'p'\n",
      "           ORDER BY 1\n",
      "        \n",
      "2020-12-02 10:34:41,041 INFO sqlalchemy.engine.base.Engine {'table_oid': 16456}\n",
      "2020-12-02 10:34:41,078 INFO sqlalchemy.engine.base.Engine \n",
      "          SELECT r.conname,\n",
      "                pg_catalog.pg_get_constraintdef(r.oid, true) as condef,\n",
      "                n.nspname as conschema\n",
      "          FROM  pg_catalog.pg_constraint r,\n",
      "                pg_namespace n,\n",
      "                pg_class c\n",
      "\n",
      "          WHERE r.conrelid = %(table)s AND\n",
      "                r.contype = 'f' AND\n",
      "                c.oid = confrelid AND\n",
      "                n.oid = c.relnamespace\n",
      "          ORDER BY 1\n",
      "        \n",
      "2020-12-02 10:34:41,079 INFO sqlalchemy.engine.base.Engine {'table': 16456}\n",
      "2020-12-02 10:34:41,115 INFO sqlalchemy.engine.base.Engine \n",
      "              SELECT\n",
      "                  i.relname as relname,\n",
      "                  ix.indisunique, ix.indexprs, ix.indpred,\n",
      "                  a.attname, a.attnum, c.conrelid, ix.indkey::varchar,\n",
      "                  ix.indoption::varchar, i.reloptions, am.amname,\n",
      "                  ix.indnkeyatts as indnkeyatts\n",
      "              FROM\n",
      "                  pg_class t\n",
      "                        join pg_index ix on t.oid = ix.indrelid\n",
      "                        join pg_class i on i.oid = ix.indexrelid\n",
      "                        left outer join\n",
      "                            pg_attribute a\n",
      "                            on t.oid = a.attrelid and a.attnum = ANY(ix.indkey)\n",
      "                        left outer join\n",
      "                            pg_constraint c\n",
      "                            on (ix.indrelid = c.conrelid and\n",
      "                                ix.indexrelid = c.conindid and\n",
      "                                c.contype in ('p', 'u', 'x'))\n",
      "                        left outer join\n",
      "                            pg_am am\n",
      "                            on i.relam = am.oid\n",
      "              WHERE\n",
      "                  t.relkind IN ('r', 'v', 'f', 'm', 'p')\n",
      "                  and t.oid = %(table_oid)s\n",
      "                  and ix.indisprimary = 'f'\n",
      "              ORDER BY\n",
      "                  t.relname,\n",
      "                  i.relname\n",
      "            \n",
      "2020-12-02 10:34:41,116 INFO sqlalchemy.engine.base.Engine {'table_oid': 16456}\n",
      "2020-12-02 10:34:41,155 INFO sqlalchemy.engine.base.Engine \n",
      "            SELECT\n",
      "                cons.conname as name,\n",
      "                cons.conkey as key,\n",
      "                a.attnum as col_num,\n",
      "                a.attname as col_name\n",
      "            FROM\n",
      "                pg_catalog.pg_constraint cons\n",
      "                join pg_attribute a\n",
      "                  on cons.conrelid = a.attrelid AND\n",
      "                    a.attnum = ANY(cons.conkey)\n",
      "            WHERE\n",
      "                cons.conrelid = %(table_oid)s AND\n",
      "                cons.contype = 'u'\n",
      "        \n",
      "2020-12-02 10:34:41,155 INFO sqlalchemy.engine.base.Engine {'table_oid': 16456}\n",
      "2020-12-02 10:34:41,191 INFO sqlalchemy.engine.base.Engine \n",
      "            SELECT\n",
      "                cons.conname as name,\n",
      "                pg_get_constraintdef(cons.oid) as src\n",
      "            FROM\n",
      "                pg_catalog.pg_constraint cons\n",
      "            WHERE\n",
      "                cons.conrelid = %(table_oid)s AND\n",
      "                cons.contype = 'c'\n",
      "        \n",
      "2020-12-02 10:34:41,192 INFO sqlalchemy.engine.base.Engine {'table_oid': 16456}\n",
      "2020-12-02 10:34:41,228 INFO sqlalchemy.engine.base.Engine \n",
      "            SELECT\n",
      "                pgd.description as table_comment\n",
      "            FROM\n",
      "                pg_catalog.pg_description pgd\n",
      "            WHERE\n",
      "                pgd.objsubid = 0 AND\n",
      "                pgd.objoid = %(table_oid)s\n",
      "        \n",
      "2020-12-02 10:34:41,228 INFO sqlalchemy.engine.base.Engine {'table_oid': 16456}\n",
      "2020-12-02 10:34:41,301 INFO sqlalchemy.engine.base.Engine SELECT recipe_list.id, recipe_list.name, recipe_list.description, recipe_list.category, recipe_list.subcategory, recipe_list.prep_time, recipe_list.total_time, recipe_list.calories, recipe_list.hf_id, recipe_list.tip, recipe_list.image_url, recipe_list.servings \n",
      "FROM recipe_list \n",
      "WHERE recipe_list.id = %(id_1)s\n",
      "2020-12-02 10:34:41,302 INFO sqlalchemy.engine.base.Engine {'id_1': 1}\n"
     ]
    }
   ],
   "source": [
    "# Recipe\n",
    "table = db.Table('recipe_list', metadata, autoload = True, autoload_with = engine)\n",
    "query = db.select(\n",
    "    [\n",
    "        table\n",
    "    ]\n",
    ").where(table.columns.id == 1)\n",
    "\n",
    "result = connection.execute(query).fetchall()\n",
    "recipe_response = []\n",
    "for ea in result:\n",
    "    recipe_response.append(\n",
    "        {\n",
    "            \"id\": ea[0],\n",
    "            \"name\": ea[1],\n",
    "            'description': ea[2],\n",
    "            'category': ea[3],\n",
    "            'subcategory': ea[4],\n",
    "            'prep_time': ea[5],\n",
    "            'total_time': ea[6],\n",
    "            'calories': ea[7],\n",
    "            'hf_id': ea[8],\n",
    "            'tip': ea[9],\n",
    "            'image_url': ea[10]\n",
    "        }\n",
    "    )"
   ]
  },
  {
   "cell_type": "code",
   "execution_count": null,
   "metadata": {},
   "outputs": [],
   "source": []
  },
  {
   "cell_type": "code",
   "execution_count": 4,
   "metadata": {
    "scrolled": true
   },
   "outputs": [
    {
     "ename": "NameError",
     "evalue": "name 'recipe_df' is not defined",
     "output_type": "error",
     "traceback": [
      "\u001b[1;31m---------------------------------------------------------------------------\u001b[0m",
      "\u001b[1;31mNameError\u001b[0m                                 Traceback (most recent call last)",
      "\u001b[1;32m<ipython-input-4-608bdd60e004>\u001b[0m in \u001b[0;36m<module>\u001b[1;34m\u001b[0m\n\u001b[1;32m----> 1\u001b[1;33m \u001b[0mrecipe_df\u001b[0m\u001b[1;33m\u001b[0m\u001b[1;33m\u001b[0m\u001b[0m\n\u001b[0m",
      "\u001b[1;31mNameError\u001b[0m: name 'recipe_df' is not defined"
     ]
    }
   ],
   "source": [
    "recipe_df"
   ]
  },
  {
   "cell_type": "code",
   "execution_count": null,
   "metadata": {},
   "outputs": [],
   "source": [
    "# Ingredients\n",
    "table = db.Table('ingredients', metadata, autoload = True, autoload_with = engine)\n",
    "query = db.select(\n",
    "    [\n",
    "        table\n",
    "    ]\n",
    ").where(table.columns.recipe_id == 1)\n",
    "\n",
    "result = connection.execute(query).fetchall()\n",
    "ingredients_response = []\n",
    "for ea in result:\n",
    "    ingredients_response.append(\n",
    "        {\n",
    "            \"id\": ea[0],\n",
    "            \"recipe_id\": ea[1],\n",
    "            'ingredient_id': ea[2],\n",
    "            'qty': ea[3],\n",
    "            'unit': ea[4],\n",
    "            'servings': ea[5]\n",
    "        }\n",
    "    )"
   ]
  },
  {
   "cell_type": "code",
   "execution_count": null,
   "metadata": {
    "scrolled": false
   },
   "outputs": [],
   "source": [
    "# Ingredients Lookup\n",
    "table = db.Table('ingredients_list', metadata, autoload = True, autoload_with = engine)\n",
    "query = db.select(\n",
    "    [\n",
    "        table\n",
    "    ]\n",
    ")\n",
    "\n",
    "result = connection.execute(query).fetchall()\n",
    "ingredients_list_response = []\n",
    "for ea in result:\n",
    "    ingredients_list_response.append(\n",
    "        {\n",
    "            \"id\": ea[0],\n",
    "            \"ingredient\": ea[1],\n",
    "            'category': ea[2],\n",
    "            'subcategory': ea[3],\n",
    "            'staple': ea[4]\n",
    "        }\n",
    "    )"
   ]
  },
  {
   "cell_type": "code",
   "execution_count": null,
   "metadata": {},
   "outputs": [],
   "source": [
    "ingredients_df = pd.DataFrame(ingredients_response)\n",
    "ingredients_list_df = pd.DataFrame(ingredients_list_response)"
   ]
  },
  {
   "cell_type": "code",
   "execution_count": null,
   "metadata": {},
   "outputs": [],
   "source": [
    "ingr_df = ingredients_df.merge(ingredients_list_df, left_on='ingredient_id', right_on='id')"
   ]
  },
  {
   "cell_type": "code",
   "execution_count": null,
   "metadata": {},
   "outputs": [],
   "source": [
    "ingr_df = ingr_df[['ingredient','qty','unit','servings']]\n",
    "ingr_df"
   ]
  },
  {
   "cell_type": "code",
   "execution_count": null,
   "metadata": {},
   "outputs": [],
   "source": [
    "res = ingr_df.to_json(orient=\"records\")\n",
    "parsed = json.loads(res)\n",
    "parsed"
   ]
  },
  {
   "cell_type": "code",
   "execution_count": null,
   "metadata": {},
   "outputs": [],
   "source": [
    "recipe_response[0]['ingredients'] = parsed"
   ]
  },
  {
   "cell_type": "code",
   "execution_count": null,
   "metadata": {},
   "outputs": [],
   "source": [
    "recipe_response"
   ]
  }
 ],
 "metadata": {
  "kernelspec": {
   "display_name": "Python 3",
   "language": "python",
   "name": "python3"
  },
  "language_info": {
   "codemirror_mode": {
    "name": "ipython",
    "version": 3
   },
   "file_extension": ".py",
   "mimetype": "text/x-python",
   "name": "python",
   "nbconvert_exporter": "python",
   "pygments_lexer": "ipython3",
   "version": "3.8.3"
  }
 },
 "nbformat": 4,
 "nbformat_minor": 4
}
