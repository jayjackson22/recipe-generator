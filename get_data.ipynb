{
 "cells": [
  {
   "cell_type": "code",
   "execution_count": 22,
   "metadata": {},
   "outputs": [
    {
     "name": "stdout",
     "output_type": "stream",
     "text": [
      "2020-12-01 15:30:37,995 INFO sqlalchemy.engine.base.Engine select version()\n",
      "2020-12-01 15:30:37,996 INFO sqlalchemy.engine.base.Engine {}\n",
      "2020-12-01 15:30:38,065 INFO sqlalchemy.engine.base.Engine select current_schema()\n",
      "2020-12-01 15:30:38,065 INFO sqlalchemy.engine.base.Engine {}\n",
      "2020-12-01 15:30:38,134 INFO sqlalchemy.engine.base.Engine SELECT CAST('test plain returns' AS VARCHAR(60)) AS anon_1\n",
      "2020-12-01 15:30:38,135 INFO sqlalchemy.engine.base.Engine {}\n",
      "2020-12-01 15:30:38,169 INFO sqlalchemy.engine.base.Engine SELECT CAST('test unicode returns' AS VARCHAR(60)) AS anon_1\n",
      "2020-12-01 15:30:38,170 INFO sqlalchemy.engine.base.Engine {}\n",
      "2020-12-01 15:30:38,204 INFO sqlalchemy.engine.base.Engine show standard_conforming_strings\n",
      "2020-12-01 15:30:38,205 INFO sqlalchemy.engine.base.Engine {}\n"
     ]
    }
   ],
   "source": [
    "from flask import Flask, render_template, redirect, jsonify\n",
    "from sqlalchemy import create_engine\n",
    "\n",
    "import sqlalchemy as db\n",
    "\n",
    "connection_string = 'postgres:Adgjmpt1@postresql.cfwwjixawhdl.us-east-2.rds.amazonaws.com:5432/RecipeGenerator'\n",
    "engine = db.create_engine(f'postgresql://{connection_string}', echo=True)\n",
    "connection = engine.connect()\n",
    "metadata = db.MetaData()"
   ]
  },
  {
   "cell_type": "code",
   "execution_count": 31,
   "metadata": {},
   "outputs": [
    {
     "name": "stdout",
     "output_type": "stream",
     "text": [
      "2020-12-01 15:32:52,281 INFO sqlalchemy.engine.base.Engine SELECT recipe_list.id, recipe_list.name \n",
      "FROM recipe_list\n",
      "2020-12-01 15:32:52,282 INFO sqlalchemy.engine.base.Engine {}\n",
      "(1, 'Tuscan Pork Sausage & Pepper Spaghetti')\n",
      "(2, 'Sweet Potato Fajitas')\n",
      "(3, 'Chicken Sausage, Sweet Potato & Kale Soup')\n",
      "(4, 'Pork Sausage & Roasted Bell Pepper Pasta')\n"
     ]
    }
   ],
   "source": [
    "table = db.Table('recipe_list', metadata, autoload = True, autoload_with = engine)\n",
    "query = db.select(\n",
    "    [\n",
    "        table.c.id,\n",
    "        table.c.name,\n",
    "        table.c.description,\n",
    "        table.c.category,\n",
    "        table.c.subcategory,\n",
    "        table.c.prep_time,\n",
    "        table.c.total_time,\n",
    "        table.c.calories,\n",
    "        table.c.hf_id,\n",
    "        table.c.tip,\n",
    "        table.c.image_url\n",
    "    ]\n",
    ")\n",
    "result = connection.execute(query).fetchall()\n",
    "\n",
    "for ea in result:\n",
    "    print(ea)\n",
    "\n"
   ]
  }
 ],
 "metadata": {
  "kernelspec": {
   "display_name": "Python 3",
   "language": "python",
   "name": "python3"
  },
  "language_info": {
   "codemirror_mode": {
    "name": "ipython",
    "version": 3
   },
   "file_extension": ".py",
   "mimetype": "text/x-python",
   "name": "python",
   "nbconvert_exporter": "python",
   "pygments_lexer": "ipython3",
   "version": "3.8.3"
  }
 },
 "nbformat": 4,
 "nbformat_minor": 4
}
